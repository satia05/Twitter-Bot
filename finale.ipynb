{
  "cells": [
    {
      "cell_type": "code",
      "execution_count": 2,
      "metadata": {},
      "outputs": [],
      "source": [
        "import csv"
      ]
    },
    {
      "cell_type": "code",
      "execution_count": 2,
      "metadata": {},
      "outputs": [
        {
          "name": "stdout",
          "output_type": "stream",
          "text": [
            "{'a': [2, 0, '-', 'b'], 'b': [1, 0, 'a', 'c'], 'c': [1, 0, 'b', 'd'], 'd': [1, 0, 'c', '-']}\n"
          ]
        }
      ],
      "source": [
        "# premier cas incrémentation classique sans trie\n",
        "\n",
        "a = ['a', 'b', 'c', 'a', 'c', 'c','b','b','a','b','d','c','b']\n",
        "\n",
        "dico = {'a': [1, 0, '-', 'b'], 'b': [1, 0, 'a', 'c'], 'c': [1, 0, 'b', 'd'], 'd': [1, 0, 'c', '-']}\n",
        "\n",
        "i = 0\n",
        "\n",
        "if a[i] in dico.keys():\n",
        "    dico[a[i]][0] += 1\n",
        "    print(dico)\n",
        "else:\n",
        "    print('élément non présent dans le dictionnaire')"
      ]
    },
    {
      "cell_type": "code",
      "execution_count": 33,
      "metadata": {},
      "outputs": [
        {
          "name": "stdout",
          "output_type": "stream",
          "text": [
            "Pointeur changé = {'a': [1, 0, '-', 'b'], 'b': [1, 0, 'c', 'd'], 'c': [2, 0, 'a', 'b'], 'd': [1, 0, 'c', '-']}\n",
            "Élément n+1 et n-2 mise à jour = {'a': [1, 0, '-', 'c'], 'b': [1, 0, 'c', 'd'], 'c': [2, 0, 'a', 'b'], 'd': [1, 0, 'b', '-']}\n"
          ]
        }
      ],
      "source": [
        "# deuxième cas on incrémente un élément au milieu ici ''c'' par exemple\n",
        "\n",
        "a = ['a', 'b', 'c', 'a', 'c', 'c','b','b','a','b','d','c','b']\n",
        "\n",
        "dico = {'a': [1, 0, '-', 'b'], 'b': [1, 0, 'a', 'c'], 'c': [1, 0, 'b', 'd'], 'd': [1, 0, 'c', '-']}\n",
        "\n",
        "i = 2 #on choisit ''c''\n",
        "\n",
        "if a[i] in dico.keys():\n",
        "    dico[a[i]][0] += 1\n",
        "    temp_key = dico[a[i]][2]\n",
        "    if dico[temp_key][2] != \"-\" and dico[a[i]][0] > dico[temp_key][0]:\n",
        "        # change les pointeurs \n",
        "        temp_dico = dico[a[i]][3]\n",
        "        temp_dico2 = dico[temp_key][2]\n",
        "        dico[temp_key][2] = dico[temp_key][3]\n",
        "        dico[temp_key][3] = temp_dico\n",
        "        dico[a[i]][3] = dico[a[i]][2]\n",
        "        dico[a[i]][2] = temp_dico2\n",
        "        print('Pointeurs changés =', dico)\n",
        "\n",
        "\n",
        "        # mise à jour des élément n+1 et n-2\n",
        "        key_up = dico[a[i]][2]\n",
        "        key_down = dico[temp_key][3]\n",
        "        dico[key_up][3] = dico[temp_key][2]\n",
        "        dico[key_down][2] = dico[a[i]][3]\n",
        "\n",
        "    print('Élément n+1 et n-2 mise à jour =', dico)\n",
        "else:\n",
        "    print('élément non présent dans le dictionnaire')"
      ]
    },
    {
      "cell_type": "code",
      "execution_count": 34,
      "metadata": {},
      "outputs": [
        {
          "name": "stdout",
          "output_type": "stream",
          "text": [
            "Pointeur changé = {'a': [2, 0, '-', 'a'], 'b': [3, 0, 'b', 'c'], 'c': [1, 0, 'b', 'd'], 'd': [1, 0, 'c', '-']}\n",
            "Élément n-2 mise à jour = {'a': [2, 0, '-', 'a'], 'b': [3, 0, 'b', 'c'], 'c': [1, 0, 'a', 'd'], 'd': [1, 0, 'c', '-']}\n"
          ]
        }
      ],
      "source": [
        "# troisième cas on incrémente un élément au milieu mais l'élément au-dessus est est le plus  grand avant l'incrémentation\n",
        "\n",
        "a = ['a', 'b', 'c', 'a', 'c', 'c','b','b','a','b','d','c','b']\n",
        "\n",
        "dico = {'a': [2, 0, '-', 'b'], 'b': [2, 0, 'a', 'c'], 'c': [1, 0, 'b', 'd'], 'd': [1, 0, 'c', '-']}\n",
        "\n",
        "i = 1 # on choisit ''b''\n",
        "\n",
        "if a[i] in dico.keys():\n",
        "    dico[a[i]][0] += 1\n",
        "    temp_key = dico[a[i]][2]\n",
        "    if dico[temp_key][2] == \"-\" and dico[a[i]][0] > dico[temp_key][0]:\n",
        "        # change les pointeurs\n",
        "        temp_dico = dico[a[i]][2]\n",
        "        temp_dico2 = dico[temp_key][3]\n",
        "        dico[temp_key][3] = temp_dico\n",
        "        dico[a[i]][2] = temp_dico2\n",
        "        print('Pointeurs changés =', dico)\n",
        "\n",
        "    # mise à jour de l'élément n-2\n",
        "    key_down = dico[a[i]][3]\n",
        "    dico[key_down][2] = dico[temp_key][3]\n",
        "    print('Élément n-2 mise à jour =', dico)\n",
        "else:\n",
        "    print('élément non présent dans le dictionnaire')"
      ]
    },
    {
      "cell_type": "code",
      "execution_count": 35,
      "metadata": {},
      "outputs": [
        {
          "name": "stdout",
          "output_type": "stream",
          "text": [
            "Pointeur changé = {'a': [1, 0, '-', 'b'], 'b': [1, 0, 'a', 'c'], 'c': [1, 0, 'b', 'c'], 'd': [2, 0, 'd', '-']}\n",
            "Élément n+1 mise à jour = {'a': [1, 0, '-', 'b'], 'b': [1, 0, 'a', 'd'], 'c': [1, 0, 'b', 'c'], 'd': [2, 0, 'd', '-']}\n"
          ]
        }
      ],
      "source": [
        "# quatrième cas on incrémente le dernier élément\n",
        "\n",
        "a = ['a', 'b', 'c', 'a', 'c', 'c','b','b','a','b','d','c','b']\n",
        "\n",
        "dico = {'a': [1, 0, '-', 'b'], 'b': [1, 0, 'a', 'c'], 'c': [1, 0, 'b', 'd'], 'd': [1, 0, 'c', '-']}\n",
        "\n",
        "i = 10 # on choisit ''d''\n",
        "\n",
        "if a[i] in dico.keys():\n",
        "    dico[a[i]][0] += 1\n",
        "    temp_key = dico[a[i]][2]\n",
        "    if dico[a[i]][3] == \"-\" and dico[a[i]][0] > dico[temp_key][0]:\n",
        "        # change les pointeurs\n",
        "        temp_dico = dico[a[i]][2]\n",
        "        temp_dico2 = dico[temp_key][3]\n",
        "        dico[temp_key][3] = temp_dico\n",
        "        dico[a[i]][2] = temp_dico2\n",
        "        print('Pointeurs changés =', dico)\n",
        "\n",
        "    # mise à jour de l'élément n+1    \n",
        "    key_up = dico[temp_key][2]\n",
        "    dico[key_up][3] = dico[a[i]][2]\n",
        "    print('Élément n+1 mise à jour =', dico)\n",
        "    "
      ]
    },
    {
      "cell_type": "code",
      "execution_count": 54,
      "metadata": {},
      "outputs": [
        {
          "name": "stdout",
          "output_type": "stream",
          "text": [
            "d\n",
            "pointeurs changés = \n",
            " {'a': [1, 0, '-', 'b'], 'b': [1, 0, 'a', 'c'], 'c': [1, 0, 'b', 'd'], 'd': [1, 0, 'c', '-'], 'e': [2, 1, 'c', '-']}\n",
            "dictionnaire après avoir effacé le dernière élément = \n",
            " {'a': [1, 0, '-', 'b'], 'b': [1, 0, 'a', 'c'], 'c': [1, 0, 'b', 'd'], 'e': [2, 1, 'c', '-']}\n",
            "Élément n+1 mise à jour = \n",
            " {'a': [1, 0, '-', 'b'], 'b': [1, 0, 'a', 'c'], 'c': [1, 0, 'b', 'e'], 'e': [2, 1, 'c', '-']}\n"
          ]
        }
      ],
      "source": [
        "# cinquième cas on ajoute un nouvel élément dans le dictionnaire qui n'est pas dedans mais le nombre d'élement max est atteint\n",
        "\n",
        "a = ['a', 'b', 'c', 'a', 'c', 'c','b','b','a','b','d','c','b', 'e']\n",
        "\n",
        "dico = {'a': [1, 0, '-', 'b'], 'b': [1, 0, 'a', 'c'], 'c': [1, 0, 'b', 'd'], 'd': [1, 0, 'c', '-']}\n",
        "\n",
        "i = 13 # on choisit ''e''\n",
        "\n",
        "min = 'd' # ici on donne en avance le minimum pour le bon déroulement du test \n",
        "\n",
        "# sinon je définirai le min à chaque fois qu'un nouvel élément sera intégré dans le dicionnaire dans le programme avec tout les cas\n",
        "\n",
        "print(min)\n",
        "if a[i] not in dico.keys():\n",
        "    dico[a[i]] = [dico[min][0] + 1, dico[min][0], dico[min][2], dico[min][3]] # on vient d'ajouter le nouvel élément dans le dictionnaire et on affecte les pointeurs \n",
        "    print('pointeurs changés = \\n', dico)\n",
        "\n",
        "    del dico[min] # on supprime l'élément qui doit être remplacé\n",
        "    print('dictionnaire après avoir effacé le dernière élément = \\n', dico)\n",
        "\n",
        "    min = a[i] # on met à jour le min qui passe de 'd' à 'e' du coup\n",
        "\n",
        "    # mise à jour de l'élément n+1\n",
        "    key_up = dico[a[i]][2]\n",
        "    dico[key_up][3] = a[i]\n",
        "    print('Élément n+1 mise à jour = \\n', dico)\n",
        "\n",
        "else:\n",
        "    print('clé présente dans le dictionnaire')\n",
        "\n",
        "\n"
      ]
    }
  ],
  "metadata": {
    "colab": {
      "collapsed_sections": [],
      "name": "TD_3-2.ipynb",
      "provenance": [],
      "toc_visible": true
    },
    "kernelspec": {
      "display_name": "Python 3.9.0 64-bit",
      "language": "python",
      "name": "python3"
    },
    "language_info": {
      "codemirror_mode": {
        "name": "ipython",
        "version": 3
      },
      "file_extension": ".py",
      "mimetype": "text/x-python",
      "name": "python",
      "nbconvert_exporter": "python",
      "pygments_lexer": "ipython3",
      "version": "3.9.0"
    },
    "vscode": {
      "interpreter": {
        "hash": "aee8b7b246df8f9039afb4144a1f6fd8d2ca17a180786b69acc140d282b71a49"
      }
    }
  },
  "nbformat": 4,
  "nbformat_minor": 0
}
