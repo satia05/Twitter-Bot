{
  "cells": [
    {
      "cell_type": "code",
      "execution_count": 2,
      "metadata": {},
      "outputs": [],
      "source": [
        "import csv"
      ]
    },
    {
      "cell_type": "code",
      "execution_count": 29,
      "metadata": {},
      "outputs": [
        {
          "name": "stdout",
          "output_type": "stream",
          "text": [
            "a  =  [2, 0, '-', 'b']\n",
            "b  =  [1, 0, 'a', 'c']\n",
            "c  =  [1, 0, 'b', 'd']\n",
            "d  =  [1, 0, 'c', '-']\n"
          ]
        }
      ],
      "source": [
        "# premier cas incrémentation classique sans trie\n",
        "\n",
        "k = 4\n",
        "\n",
        "a = ['a', 'b', 'c', 'a', 'c', 'c','b','b','a','b','d','c','b']\n",
        "\n",
        "dico = {'a': [1, 0, '-', 'b'], 'b': [1, 0, 'a', 'c'], 'c': [1, 0, 'b', 'd'], 'd': [1, 0, 'c', '-']}\n",
        "\n",
        "top = 'a'\n",
        "\n",
        "variable = top\n",
        "\n",
        "i = 0\n",
        "\n",
        "if a[i] in dico.keys():\n",
        "    dico[a[i]][0] += 1\n",
        "    \n",
        "    top = a[i] # on redéfinit l'élément le plus haut\n",
        "    variable = top # on l'affecte à notre variable\n",
        "\n",
        "    j = 0\n",
        "\n",
        "    while j < k:\n",
        "        print(variable, ' = ', dico[variable])\n",
        "        variable = dico[variable][3]\n",
        "        j = j + 1\n",
        "\n",
        "else:\n",
        "    print('élément non présent dans le dictionnaire')"
      ]
    },
    {
      "cell_type": "code",
      "execution_count": 27,
      "metadata": {},
      "outputs": [
        {
          "name": "stdout",
          "output_type": "stream",
          "text": [
            "a =  [1, 0, '-', 'c'] \n",
            " c =  [2, 0, 'a', 'b'] \n",
            " b =  [1, 0, 'c', 'd'] \n",
            " d =  [1, 0, 'b', '-'] \n",
            "\n"
          ]
        }
      ],
      "source": [
        "# deuxième cas on incrémente un élément au milieu ici ''c'' par exemple\n",
        "\n",
        "k = 4\n",
        "\n",
        "a = ['a', 'b', 'c', 'a', 'c', 'c','b','b','a','b','d','c','b']\n",
        "\n",
        "dico = {'a': [1, 0, '-', 'b'], 'b': [1, 0, 'a', 'c'], 'c': [1, 0, 'b', 'd'], 'd': [1, 0, 'c', '-']}\n",
        "\n",
        "top = 'a'\n",
        "\n",
        "variable = top\n",
        "\n",
        "i = 2 #on choisit ''c''\n",
        "\n",
        "if a[i] in dico.keys():\n",
        "    dico[a[i]][0] += 1\n",
        "    temp_key = dico[a[i]][2]\n",
        "    if dico[temp_key][2] != \"-\" and dico[a[i]][0] > dico[temp_key][0]:\n",
        "        # change les pointeurs \n",
        "        temp_dico = dico[a[i]][3]\n",
        "        temp_dico2 = dico[temp_key][2]\n",
        "        dico[temp_key][2] = dico[temp_key][3]\n",
        "        dico[temp_key][3] = temp_dico\n",
        "        dico[a[i]][3] = dico[a[i]][2]\n",
        "        dico[a[i]][2] = temp_dico2\n",
        "\n",
        "        # mise à jour des élément n+1 et n-2\n",
        "        key_up = dico[a[i]][2]\n",
        "        key_down = dico[temp_key][3]\n",
        "        dico[key_up][3] = dico[temp_key][2]\n",
        "        dico[key_down][2] = dico[a[i]][3]\n",
        "\n",
        "        print('a = ', dico['a'], '\\n', \n",
        "            'c = ', dico['c'],'\\n', \n",
        "            'b = ', dico['b'], '\\n', \n",
        "            'd = ',dico['d'], '\\n',)\n",
        "\n",
        "else:\n",
        "    print('élément non présent dans le dictionnaire')"
      ]
    },
    {
      "cell_type": "code",
      "execution_count": 21,
      "metadata": {},
      "outputs": [
        {
          "name": "stdout",
          "output_type": "stream",
          "text": [
            "b  =  [3, 0, '-', 'a']\n",
            "a  =  [2, 0, 'b', 'c']\n",
            "c  =  [1, 0, 'a', 'd']\n",
            "d  =  [1, 0, 'c', '-']\n"
          ]
        }
      ],
      "source": [
        "# troisième cas on incrémente un élément au milieu mais l'élément au-dessus est est le plus  grand avant l'incrémentation\n",
        "\n",
        "k = 4\n",
        "\n",
        "a = ['a', 'b', 'c', 'a', 'c', 'c','b','b','a','b','d','c','b']\n",
        "\n",
        "dico = {'a': [2, 0, '-', 'b'], 'b': [2, 0, 'a', 'c'], 'c': [1, 0, 'b', 'd'], 'd': [1, 0, 'c', '-']}\n",
        "\n",
        "top = 'a'\n",
        "\n",
        "variable = top\n",
        "\n",
        "i = 1 # on choisit ''b''\n",
        "\n",
        "if a[i] in dico.keys():\n",
        "    dico[a[i]][0] += 1\n",
        "    temp_key = dico[a[i]][2]\n",
        "    if dico[temp_key][2] == \"-\" and dico[a[i]][0] > dico[temp_key][0]:\n",
        "        # change les pointeurs\n",
        "        temp_dico = dico[a[i]][3]\n",
        "        temp_dico2 = dico[temp_key][2]\n",
        "        dico[temp_key][2] = dico[temp_key][3]\n",
        "        dico[temp_key][3] = temp_dico\n",
        "        dico[a[i]][3] = dico[a[i]][2]\n",
        "        dico[a[i]][2] = temp_dico2\n",
        "\n",
        "    top = a[i] # on redéfinit l'élément le plus haut\n",
        "    variable = top # on l'affecte à notre variable\n",
        "\n",
        "    # mise à jour de l'élément n-2\n",
        "    key_down = dico[temp_key][3]\n",
        "    dico[key_down][2] = temp_key\n",
        "\n",
        "    j = 0\n",
        "\n",
        "    while j < k:\n",
        "        print(variable, ' = ', dico[variable])\n",
        "        variable = dico[variable][3]\n",
        "        j = j + 1\n",
        "else:\n",
        "    print('élément non présent dans le dictionnaire')"
      ]
    },
    {
      "cell_type": "code",
      "execution_count": 33,
      "metadata": {},
      "outputs": [
        {
          "name": "stdout",
          "output_type": "stream",
          "text": [
            "a  =  [1, 0, '-', 'b']\n",
            "b  =  [1, 0, 'a', 'd']\n",
            "d  =  [2, 0, 'b', 'c']\n",
            "c  =  [1, 0, 'd', '-']\n"
          ]
        }
      ],
      "source": [
        "# quatrième cas on incrémente le dernier élément\n",
        "\n",
        "k = 4\n",
        "\n",
        "a = ['a', 'b', 'c', 'a', 'c', 'c','b','b','a','b','d','c','b']\n",
        "\n",
        "dico = {'a': [1, 0, '-', 'b'], 'b': [1, 0, 'a', 'c'], 'c': [1, 0, 'b', 'd'], 'd': [1, 0, 'c', '-']}\n",
        "\n",
        "i = 10 # on choisit ''d''\n",
        "\n",
        "top = 'a'\n",
        "\n",
        "min = 'd'\n",
        "\n",
        "variable = top\n",
        "\n",
        "if a[i] in dico.keys():\n",
        "    dico[a[i]][0] += 1\n",
        "    temp_key = dico[a[i]][2]\n",
        "    if dico[a[i]][3] == \"-\" and dico[a[i]][0] > dico[temp_key][0]:\n",
        "        # change les pointeurs\n",
        "        temp_dico = dico[a[i]][3]\n",
        "        temp_dico2 = dico[temp_key][2]\n",
        "        dico[temp_key][2] = dico[temp_key][3]\n",
        "        dico[temp_key][3] = temp_dico\n",
        "        dico[a[i]][3] = dico[a[i]][2]\n",
        "        dico[a[i]][2] = temp_dico2\n",
        "\n",
        "    min = temp_key # on redéfinit l'élément le plus petit\n",
        "    variable = top # on l'affecte à notre variable\n",
        "\n",
        "    # mise à jour de l'élément n+1    \n",
        "    key_up = dico[a[i]][2]\n",
        "    dico[key_up][3] = dico[temp_key][2]\n",
        "\n",
        "    j = 0\n",
        "\n",
        "    while j < k:\n",
        "        print(variable, ' = ', dico[variable])\n",
        "        variable = dico[variable][3]\n",
        "        j = j + 1\n",
        "    "
      ]
    },
    {
      "cell_type": "code",
      "execution_count": 36,
      "metadata": {},
      "outputs": [
        {
          "name": "stdout",
          "output_type": "stream",
          "text": [
            "a  =  [1, 0, '-', 'b']\n",
            "b  =  [1, 0, 'a', 'c']\n",
            "c  =  [1, 0, 'b', 'e']\n",
            "e  =  [2, 1, 'c', '-']\n"
          ]
        }
      ],
      "source": [
        "# cinquième cas on ajoute un nouvel élément dans le dictionnaire qui n'est pas dedans mais le nombre d'élement max est atteint\n",
        "\n",
        "k = 4\n",
        "\n",
        "a = ['a', 'b', 'c', 'a', 'c', 'c','b','b','a','b','d','c','b', 'e']\n",
        "\n",
        "dico = {'a': [1, 0, '-', 'b'], 'b': [1, 0, 'a', 'c'], 'c': [1, 0, 'b', 'd'], 'd': [1, 0, 'c', '-']}\n",
        "\n",
        "i = 13 # on choisit ''e''\n",
        "\n",
        "top = 'a'\n",
        "\n",
        "min = 'd' # ici on donne en avance le minimum pour le bon déroulement du test \n",
        "\n",
        "variable = top\n",
        "\n",
        "# sinon je définirai le min à chaque fois qu'un nouvel élément sera intégré dans le dicionnaire dans le programme avec tout les cas\n",
        "\n",
        "if a[i] not in dico.keys():\n",
        "    dico[a[i]] = [dico[min][0] + 1, dico[min][0], dico[min][2], dico[min][3]] # on vient d'ajouter le nouvel élément dans le dictionnaire et on affecte les pointeurs \n",
        "\n",
        "    del dico[min] # on supprime l'élément qui doit être remplacé\n",
        "\n",
        "    min = a[i] # on met à jour le min qui passe de 'd' à 'e' du coup\n",
        "\n",
        "    # mise à jour de l'élément n+1\n",
        "    key_up = dico[a[i]][2]\n",
        "    dico[key_up][3] = a[i]\n",
        "\n",
        "    variable = top # on l'affecte à notre variable\n",
        "\n",
        "    j = 0\n",
        "\n",
        "    while j < k:\n",
        "        print(variable, ' = ', dico[variable])\n",
        "        variable = dico[variable][3]\n",
        "        j = j + 1\n",
        "\n",
        "else:\n",
        "    print('clé présente dans le dictionnaire')"
      ]
    },
    {
      "cell_type": "code",
      "execution_count": 25,
      "metadata": {},
      "outputs": [
        {
          "name": "stdout",
          "output_type": "stream",
          "text": [
            "b  =  [3, 0, '-', 'a']\n",
            "a  =  [2, 0, 'b', 'c']\n",
            "c  =  [1, 0, 'a', 'd']\n",
            "d  =  [1, 0, 'c', '-']\n"
          ]
        }
      ],
      "source": [
        "dict = {'a': [2, 0, 'b', 'c'], 'b': [3, 0, '-', 'a'], 'c': [1, 0, 'a', 'd'], 'd': [1, 0, 'c', '-']}\n",
        "\n",
        "k = 4\n",
        "\n",
        "top = 'b'\n",
        "\n",
        "variable = top\n",
        "\n",
        "i = 0\n",
        "\n",
        "while i < k:\n",
        "    print(variable, ' = ', dict[variable])\n",
        "\n",
        "    variable = dico[variable][3]\n",
        "    i = i + 1"
      ]
    }
  ],
  "metadata": {
    "colab": {
      "collapsed_sections": [],
      "name": "TD_3-2.ipynb",
      "provenance": [],
      "toc_visible": true
    },
    "kernelspec": {
      "display_name": "Python 3.10.2 64-bit",
      "language": "python",
      "name": "python3"
    },
    "language_info": {
      "codemirror_mode": {
        "name": "ipython",
        "version": 3
      },
      "file_extension": ".py",
      "mimetype": "text/x-python",
      "name": "python",
      "nbconvert_exporter": "python",
      "pygments_lexer": "ipython3",
      "version": "3.10.2"
    },
    "vscode": {
      "interpreter": {
        "hash": "a25acb2a86ced98b4fb440f4b185c22e2b5fd167cf64ec7ca081610b8a3abc28"
      }
    }
  },
  "nbformat": 4,
  "nbformat_minor": 0
}
