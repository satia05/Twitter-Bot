{
  "cells": [
    {
      "cell_type": "code",
      "execution_count": 2,
      "metadata": {},
      "outputs": [],
      "source": [
        "import csv"
      ]
    },
    {
      "cell_type": "code",
      "execution_count": 6,
      "metadata": {},
      "outputs": [
        {
          "name": "stdout",
          "output_type": "stream",
          "text": [
            "['start']\n",
            "[['a'], ['b'], ['c'], ['a'], ['c'], ['c'], ['b'], ['b'], ['a'], ['b'], ['d'], ['c'], ['b']]\n",
            "[[3, 0, 'a'], [5, 0, 'b'], [5, 4, 'c']]\n"
          ]
        }
      ],
      "source": [
        "counter = 0\n",
        "error = 0\n",
        "\n",
        "\n",
        "a = ['a', 'b', 'c', 'a', 'c', 'c','b','b','a','b','d','c','b']\n",
        "\n",
        "\n",
        "def spacesaving():\n",
        "    tabbb = [[counter, error, 'a'], \n",
        "             [counter, error, 'b'],\n",
        "             [counter, error, 'c']]\n",
        "\n",
        "    f = open(\"sample_reservoir.csv\")\n",
        "    csvreader = csv.reader(f)\n",
        "    header = []\n",
        "    header = next(csvreader)\n",
        "    print(header)\n",
        "    rows = []\n",
        "    for row in csvreader:\n",
        "        rows.append(row)\n",
        "    print(rows)\n",
        "    f.close()\n",
        "    \n",
        "\n",
        "    i=0\n",
        "    while i < len(rows):\n",
        "        j = 0\n",
        "        k = 0\n",
        "        while j < 3:\n",
        "            if tabbb[j][2] == rows[i][0]:\n",
        "                'print(j)'\n",
        "                tabbb[j][0] = tabbb[j][0] + 1\n",
        "                j = j +1\n",
        "            else : \n",
        "                \"print('non')\"\n",
        "                k = k + 1\n",
        "                if k == 3:\n",
        "                    'print(a[i])'\n",
        "                    'print(tabbb[j][2])'\n",
        "                    tabbb[j][2] = rows[i][0]\n",
        "                    tabbb[j][1] = tabbb[j][0]\n",
        "                    tabbb[j][0] = tabbb[j][0] + 1\n",
        "                j = j +1\n",
        "        i = i +1\n",
        "    print(tabbb)\n",
        "\n",
        "spacesaving()"
      ]
    }
  ],
  "metadata": {
    "colab": {
      "collapsed_sections": [],
      "name": "TD_3-2.ipynb",
      "provenance": [],
      "toc_visible": true
    },
    "kernelspec": {
      "display_name": "Python 3.10.2 64-bit",
      "language": "python",
      "name": "python3"
    },
    "language_info": {
      "codemirror_mode": {
        "name": "ipython",
        "version": 3
      },
      "file_extension": ".py",
      "mimetype": "text/x-python",
      "name": "python",
      "nbconvert_exporter": "python",
      "pygments_lexer": "ipython3",
      "version": "3.10.2"
    },
    "vscode": {
      "interpreter": {
        "hash": "a25acb2a86ced98b4fb440f4b185c22e2b5fd167cf64ec7ca081610b8a3abc28"
      }
    }
  },
  "nbformat": 4,
  "nbformat_minor": 0
}
