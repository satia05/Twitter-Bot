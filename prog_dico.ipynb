{
  "cells": [
    {
      "cell_type": "code",
      "execution_count": 1,
      "metadata": {},
      "outputs": [
        {
          "name": "stdout",
          "output_type": "stream",
          "text": [
            "a\n",
            "{'b': (4, 0, 'b'), 'a': (2, 0, 'a'), 'c': (2, 1, 'c')}\n"
          ]
        }
      ],
      "source": [
        "k = 3\n",
        "counter = 0\n",
        "epsilon = 0\n",
        "dc = {}\n",
        "\n",
        "a = ['a', 'b', 'c', 'a', 'c', 'c','b','b','a','b','d','c','b']\n",
        "i = 0\n",
        "print(a[i])\n",
        "\n",
        "\n",
        "i = 0\n",
        "l = 0\n",
        "\n",
        "while i < len(a):\n",
        "    if a[i] not in dc.keys() and l < k:\n",
        "        dc[a[i]] = (0, 0, a[i])\n",
        "        min = dc[a[i]]\n",
        "        l = l +1\n",
        "        i = i + 1\n",
        "    elif a[i] in dc.keys():\n",
        "        demo_list = list(dc[a[i]])\n",
        "        demo_list[0] += 1\n",
        "        dc = dict(sorted(dc.items(), key=lambda x:x[1][0], reverse=True))\n",
        "        dc[a[i]] = tuple(demo_list)\n",
        "        #dc = dict(sorted(dc.items(), key=lambda x:x[1][0], reverse=True))\n",
        "        #min = dc[a[i]] # il prend le b en tant que min alors que c le c le plus petit\n",
        "        i = i + 1\n",
        "    else:\n",
        "        dc[a[i]] = (min[0] + 1, min[0], a[i])\n",
        "        dc = dict(sorted(dc.items(), key=lambda x:x[1][0], reverse=True))\n",
        "        del dc[min[2]]\n",
        "        #dc = dict(sorted(dc.items(), key=lambda x:x[1][0], reverse=True))\n",
        "        min = dc[a[i]]\n",
        "        i = i + 1\n",
        "\n",
        "print(dc)"
      ]
    },
    {
      "cell_type": "code",
      "execution_count": null,
      "metadata": {},
      "outputs": [],
      "source": [
        "d = {'a': (2, 0, 'a'), 'b': (4, 0, 'b'), 'c': (7, 0, 'c')}\n",
        "\n",
        "d = dict(sorted(d.items(), key=lambda x:x[1][0], reverse=True))\n",
        "\n",
        "print(d)"
      ]
    }
  ],
  "metadata": {
    "colab": {
      "collapsed_sections": [],
      "name": "TD_3-2.ipynb",
      "provenance": [],
      "toc_visible": true
    },
    "kernelspec": {
      "display_name": "Python 3.10.2 64-bit",
      "language": "python",
      "name": "python3"
    },
    "language_info": {
      "codemirror_mode": {
        "name": "ipython",
        "version": 3
      },
      "file_extension": ".py",
      "mimetype": "text/x-python",
      "name": "python",
      "nbconvert_exporter": "python",
      "pygments_lexer": "ipython3",
      "version": "3.10.2"
    },
    "vscode": {
      "interpreter": {
        "hash": "a25acb2a86ced98b4fb440f4b185c22e2b5fd167cf64ec7ca081610b8a3abc28"
      }
    }
  },
  "nbformat": 4,
  "nbformat_minor": 0
}
