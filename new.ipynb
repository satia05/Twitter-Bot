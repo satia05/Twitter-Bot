{
  "cells": [
    {
      "cell_type": "code",
      "execution_count": 2,
      "metadata": {},
      "outputs": [],
      "source": [
        "import csv"
      ]
    },
    {
      "cell_type": "code",
      "execution_count": 3,
      "metadata": {},
      "outputs": [
        {
          "name": "stdout",
          "output_type": "stream",
          "text": [
            "{'a': [1, 0, '-', 'b'], 'b': [0, 0, 'a', 'c'], 'c': [0, 0, 'b', '-']}\n"
          ]
        }
      ],
      "source": [
        "# premier cas incrémentation classique sans trie\n",
        "\n",
        "a = ['a', 'b', 'c', 'a', 'c', 'c','b','b','a','b','d','c','b']\n",
        "\n",
        "dico = {'a': [0, 0, '-', 'b'], 'b': [0, 0, 'a', 'c'], 'c': [0, 0, 'b', 'd'], 'd': [0, 0, 'c', '-']}\n",
        "\n",
        "i = 0\n",
        "\n",
        "if a[i] in dico.keys():\n",
        "    dico[a[i]][0] += 1\n",
        "    print(dico)\n",
        "else:\n",
        "    print('élément non présent dans le dictionnaire')"
      ]
    },
    {
      "cell_type": "code",
      "execution_count": 8,
      "metadata": {},
      "outputs": [
        {
          "name": "stdout",
          "output_type": "stream",
          "text": [
            "{'a': [0, 0, '-', 'b'], 'b': [0, 0, 'c', 'd'], 'c': [1, 0, 'a', 'b'], 'd': [0, 0, 'c', '-']}\n",
            "a\n",
            "d\n",
            "{'a': [0, 0, '-', 'c'], 'c': [1, 0, 'a', 'b'], 'b': [0, 0, 'c', 'd'], 'd': [0, 0, 'b', '-']}\n"
          ]
        }
      ],
      "source": [
        "# deuxième cas on incrémente un élément au milieu ici ''c'' par exemple\n",
        "\n",
        "a = ['a', 'b', 'c', 'a', 'c', 'c','b','b','a','b','d','c','b']\n",
        "\n",
        "dico = {'a': [0, 0, '-', 'b'], 'b': [0, 0, 'a', 'c'], 'c': [0, 0, 'b', 'd'], 'd': [0, 0, 'c', '-']}\n",
        "\n",
        "i = 2 #on choisie ''c''\n",
        "\n",
        "if a[i] in dico.keys():\n",
        "    dico[a[i]][0] += 1\n",
        "    temp_key = dico[a[i]][2]\n",
        "    if dico[temp_key][2] != \"-\" and dico[a[i]][0] > dico[temp_key][0]:\n",
        "        # change les variables pour l'index\n",
        "        temp_dico = dico[a[i]][3]\n",
        "        temp_dico2 = dico[temp_key][2]\n",
        "        dico[temp_key][2] = dico[temp_key][3]\n",
        "        dico[temp_key][3] = temp_dico\n",
        "        dico[a[i]][3] = dico[a[i]][2]\n",
        "        dico[a[i]][2] = temp_dico2\n",
        "        print(dico)\n",
        "\n",
        "        # trie\n",
        "        keys = list(dico.keys())\n",
        "        keys[1] = a[i]\n",
        "        keys[2] = temp_key\n",
        "\n",
        "        for k in keys:\n",
        "            dico[k] = dico.pop(k)\n",
        "\n",
        "        # mise à jour des élément n+1 et n-1\n",
        "        key_up = dico[a[i]][2]\n",
        "        key_down = dico[temp_key][3]\n",
        "        print(key_up)\n",
        "        print(key_down)\n",
        "        dico[key_up][3] = dico[temp_key][2]\n",
        "        dico[key_down][2] = dico[a[i]][3]\n",
        "\n",
        "    print(dico)\n",
        "else:\n",
        "    print('élément non présent dans le dictionnaire')"
      ]
    },
    {
      "cell_type": "code",
      "execution_count": 10,
      "metadata": {},
      "outputs": [
        {
          "ename": "KeyError",
          "evalue": "0",
          "output_type": "error",
          "traceback": [
            "\u001b[0;31m---------------------------------------------------------------------------\u001b[0m",
            "\u001b[0;31mKeyError\u001b[0m                                  Traceback (most recent call last)",
            "\u001b[1;32m/Users/Santhosh/Desktop/test prog/new.ipynb Cell 4'\u001b[0m in \u001b[0;36m<cell line: 3>\u001b[0;34m()\u001b[0m\n\u001b[1;32m      <a href='vscode-notebook-cell:/Users/Santhosh/Desktop/test%20prog/new.ipynb#ch0000005?line=0'>1</a>\u001b[0m dicco \u001b[39m=\u001b[39m {\u001b[39m'\u001b[39m\u001b[39ma\u001b[39m\u001b[39m'\u001b[39m: [\u001b[39m0\u001b[39m, \u001b[39m0\u001b[39m, \u001b[39m'\u001b[39m\u001b[39m-\u001b[39m\u001b[39m'\u001b[39m, \u001b[39m'\u001b[39m\u001b[39mb\u001b[39m\u001b[39m'\u001b[39m], \u001b[39m'\u001b[39m\u001b[39mb\u001b[39m\u001b[39m'\u001b[39m: [\u001b[39m0\u001b[39m, \u001b[39m0\u001b[39m, \u001b[39m'\u001b[39m\u001b[39ma\u001b[39m\u001b[39m'\u001b[39m, \u001b[39m'\u001b[39m\u001b[39mc\u001b[39m\u001b[39m'\u001b[39m], \u001b[39m'\u001b[39m\u001b[39mc\u001b[39m\u001b[39m'\u001b[39m: [\u001b[39m0\u001b[39m, \u001b[39m0\u001b[39m, \u001b[39m'\u001b[39m\u001b[39mb\u001b[39m\u001b[39m'\u001b[39m, \u001b[39m'\u001b[39m\u001b[39md\u001b[39m\u001b[39m'\u001b[39m], \u001b[39m'\u001b[39m\u001b[39md\u001b[39m\u001b[39m'\u001b[39m: [\u001b[39m0\u001b[39m, \u001b[39m0\u001b[39m, \u001b[39m'\u001b[39m\u001b[39mc\u001b[39m\u001b[39m'\u001b[39m, \u001b[39m'\u001b[39m\u001b[39m-\u001b[39m\u001b[39m'\u001b[39m]}\n\u001b[0;32m----> <a href='vscode-notebook-cell:/Users/Santhosh/Desktop/test%20prog/new.ipynb#ch0000005?line=2'>3</a>\u001b[0m \u001b[39mprint\u001b[39m(dicco[\u001b[39m0\u001b[39;49m])\n",
            "\u001b[0;31mKeyError\u001b[0m: 0"
          ]
        }
      ],
      "source": [
        "dicco = {'a': [0, 0, '-', 'b'], 'b': [0, 0, 'a', 'c'], 'c': [0, 0, 'b', 'd'], 'd': [0, 0, 'c', '-']}\n",
        "\n",
        "print(dicco[0])"
      ]
    },
    {
      "cell_type": "code",
      "execution_count": 1,
      "metadata": {},
      "outputs": [
        {
          "name": "stdout",
          "output_type": "stream",
          "text": [
            "{'a': [0, 0, '-', 'b'], 'c': [1, 0, 'a', 'b'], 'b': [0, 0, 'c', 'd'], 'd': [0, 0, 'c', '-']}\n"
          ]
        }
      ],
      "source": [
        "dico = {'a': [0, 0, '-', 'b'], 'b': [0, 0, 'c', 'd'], 'c': [1, 0, 'a', 'b'], 'd': [0, 0, 'c', '-']}\n",
        "\n",
        "keys = list(dico.keys())\n",
        "keys[1] = 'c'\n",
        "keys[2] = 'b'\n",
        "\n",
        "for k in keys:\n",
        "    dico[k] = dico.pop(k)\n",
        "\n",
        "print(dico)"
      ]
    }
  ],
  "metadata": {
    "colab": {
      "collapsed_sections": [],
      "name": "TD_3-2.ipynb",
      "provenance": [],
      "toc_visible": true
    },
    "kernelspec": {
      "display_name": "Python 3.10.2 64-bit",
      "language": "python",
      "name": "python3"
    },
    "language_info": {
      "codemirror_mode": {
        "name": "ipython",
        "version": 3
      },
      "file_extension": ".py",
      "mimetype": "text/x-python",
      "name": "python",
      "nbconvert_exporter": "python",
      "pygments_lexer": "ipython3",
      "version": "3.10.2"
    },
    "vscode": {
      "interpreter": {
        "hash": "a25acb2a86ced98b4fb440f4b185c22e2b5fd167cf64ec7ca081610b8a3abc28"
      }
    }
  },
  "nbformat": 4,
  "nbformat_minor": 0
}
